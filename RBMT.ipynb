{
  "nbformat": 4,
  "nbformat_minor": 0,
  "metadata": {
    "colab": {
      "provenance": [],
      "authorship_tag": "ABX9TyNc4pkqqpdRLXQnf8TWdkku",
      "include_colab_link": true
    },
    "kernelspec": {
      "name": "python3",
      "display_name": "Python 3"
    },
    "language_info": {
      "name": "python"
    }
  },
  "cells": [
    {
      "cell_type": "markdown",
      "metadata": {
        "id": "view-in-github",
        "colab_type": "text"
      },
      "source": [
        "<a href=\"https://colab.research.google.com/github/Sorokina-code/NLP-course/blob/main/RBMT.ipynb\" target=\"_parent\"><img src=\"https://colab.research.google.com/assets/colab-badge.svg\" alt=\"Open In Colab\"/></a>"
      ]
    },
    {
      "cell_type": "markdown",
      "source": [
        "1. Пара языков: русский и французский\n",
        "2. Пре-процессинг:\n",
        "- Токенизация (NLTK: word_tokenize/sent_tokenize)\n",
        "- Удаление стоп-слов (NLTK: stopwords)\n",
        "- Частеречная разметка (spacy: token.pos_)\n",
        "- Лемматизация (NLTK: WordNetLemmatizer)\n",
        "- Синтакический анализ (NLTK: CFG)\n",
        "3. Несколько правил:\n",
        "\n",
        "- Во французском языке большинство прилагательных стоит после существительного, к которому они относятся. Но есть исключения, которые стоят ПЕРЕД существительными: *autre, beau, bon, grand, gros, haut, joli, long, mauvais, nouveau, petit, jeune, vieux*.\n",
        "Для машинного перевода необходимо проверить, соответствует ли рассматриваемое прилагательное исключению, и определить его место в предложении через индексацию, поставив его перед или после существительного.\n",
        "\n",
        "- Порядок слов во французском языке фиксированный в отличие от русского: SVO.\n",
        "Нужно провести POS-теггинг и синтаксический анализ для определения места слова в предложении.\n",
        "\n",
        "- Артикли во французском языке используются в предложении перед существительными. Неопределенные: *la, le, les, l'* в зависимости от рода и числа и первой буквы следующего за ним существительного (в единственном числе перед сущ., начинающегося с гласной буквы, употребляется артикль *l'*)\n",
        "Это можно сделать с помощью библиотеки Spacy (например, *token.morph.get('Gender')* и *token.morph.get('Number')*). Также нужно проверить нулевой индекс существительного в ед. ч. (гласная буква или нет). Существительное стоит после артикля, поэтому дополнительно определять часть речи не нужно."
      ],
      "metadata": {
        "id": "lW5VwjIqGh4c"
      }
    },
    {
      "cell_type": "code",
      "source": [],
      "metadata": {
        "id": "mOQ4u_NOS5rY"
      },
      "execution_count": null,
      "outputs": []
    }
  ]
}