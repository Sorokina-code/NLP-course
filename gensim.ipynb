{
  "nbformat": 4,
  "nbformat_minor": 0,
  "metadata": {
    "colab": {
      "provenance": [],
      "include_colab_link": true
    },
    "kernelspec": {
      "name": "python3",
      "display_name": "Python 3"
    },
    "language_info": {
      "name": "python"
    }
  },
  "cells": [
    {
      "cell_type": "markdown",
      "metadata": {
        "id": "view-in-github",
        "colab_type": "text"
      },
      "source": [
        "<a href=\"https://colab.research.google.com/github/Sorokina-code/NLP-course/blob/main/gensim.ipynb\" target=\"_parent\"><img src=\"https://colab.research.google.com/assets/colab-badge.svg\" alt=\"Open In Colab\"/></a>"
      ]
    },
    {
      "cell_type": "code",
      "source": [
        "from gensim.utils import simple_preprocess\n",
        "from gensim.models import Word2Vec"
      ],
      "metadata": {
        "id": "5lgtwlucdhmQ",
        "colab": {
          "base_uri": "https://localhost:8080/"
        },
        "outputId": "ff352020-54ac-441e-8121-b1d8de99daa7"
      },
      "execution_count": null,
      "outputs": [
        {
          "output_type": "stream",
          "name": "stderr",
          "text": [
            "/usr/local/lib/python3.10/dist-packages/ipykernel/ipkernel.py:283: DeprecationWarning: `should_run_async` will not call `transform_cell` automatically in the future. Please pass the result to `transformed_cell` argument and any exception that happen during thetransform in `preprocessing_exc_tuple` in IPython 7.17 and above.\n",
            "  and should_run_async(code)\n"
          ]
        }
      ]
    },
    {
      "cell_type": "code",
      "source": [
        "with open(\"jane_eyre.txt\", \"r\", encoding=\"utf-8\") as f:\n",
        "    text = f.read()"
      ],
      "metadata": {
        "id": "8EPjvRfZdjR3",
        "colab": {
          "base_uri": "https://localhost:8080/"
        },
        "outputId": "fa373817-65ef-4761-e272-a9b59770c04e"
      },
      "execution_count": null,
      "outputs": [
        {
          "output_type": "stream",
          "name": "stderr",
          "text": [
            "/usr/local/lib/python3.10/dist-packages/ipykernel/ipkernel.py:283: DeprecationWarning: `should_run_async` will not call `transform_cell` automatically in the future. Please pass the result to `transformed_cell` argument and any exception that happen during thetransform in `preprocessing_exc_tuple` in IPython 7.17 and above.\n",
            "  and should_run_async(code)\n"
          ]
        }
      ]
    },
    {
      "cell_type": "code",
      "source": [
        "sentences = [simple_preprocess(sentence) for sentence in text.splitlines() if sentence]"
      ],
      "metadata": {
        "id": "EwjfjpwCdmjR",
        "colab": {
          "base_uri": "https://localhost:8080/"
        },
        "outputId": "246a299a-732f-4276-e227-a296cfe55488"
      },
      "execution_count": null,
      "outputs": [
        {
          "output_type": "stream",
          "name": "stderr",
          "text": [
            "/usr/local/lib/python3.10/dist-packages/ipykernel/ipkernel.py:283: DeprecationWarning: `should_run_async` will not call `transform_cell` automatically in the future. Please pass the result to `transformed_cell` argument and any exception that happen during thetransform in `preprocessing_exc_tuple` in IPython 7.17 and above.\n",
            "  and should_run_async(code)\n"
          ]
        }
      ]
    },
    {
      "cell_type": "code",
      "execution_count": null,
      "metadata": {
        "id": "0Fx4tpK5beN2",
        "colab": {
          "base_uri": "https://localhost:8080/"
        },
        "outputId": "98f6c3ac-8587-449b-b89d-220d44d8a4d3"
      },
      "outputs": [
        {
          "output_type": "stream",
          "name": "stderr",
          "text": [
            "/usr/local/lib/python3.10/dist-packages/ipykernel/ipkernel.py:283: DeprecationWarning: `should_run_async` will not call `transform_cell` automatically in the future. Please pass the result to `transformed_cell` argument and any exception that happen during thetransform in `preprocessing_exc_tuple` in IPython 7.17 and above.\n",
            "  and should_run_async(code)\n"
          ]
        }
      ],
      "source": [
        "model = Word2Vec(sentences, vector_size=100, window=5, min_count=2, workers=4)"
      ]
    },
    {
      "cell_type": "code",
      "source": [
        "model.wv.most_similar(\"jane\", topn=5)"
      ],
      "metadata": {
        "colab": {
          "base_uri": "https://localhost:8080/"
        },
        "id": "VWPNRWEOdQfb",
        "outputId": "fb711670-cc9a-4699-9e1b-90d721a6e5be"
      },
      "execution_count": null,
      "outputs": [
        {
          "output_type": "stream",
          "name": "stderr",
          "text": [
            "/usr/local/lib/python3.10/dist-packages/ipykernel/ipkernel.py:283: DeprecationWarning: `should_run_async` will not call `transform_cell` automatically in the future. Please pass the result to `transformed_cell` argument and any exception that happen during thetransform in `preprocessing_exc_tuple` in IPython 7.17 and above.\n",
            "  and should_run_async(code)\n"
          ]
        },
        {
          "output_type": "execute_result",
          "data": {
            "text/plain": [
              "[('think', 0.9979555010795593),\n",
              " ('know', 0.9973387122154236),\n",
              " ('sir', 0.997201681137085),\n",
              " ('can', 0.9967287182807922),\n",
              " ('tell', 0.9963361024856567)]"
            ]
          },
          "metadata": {},
          "execution_count": 22
        }
      ]
    },
    {
      "cell_type": "code",
      "source": [
        "from nltk.corpus import stopwords\n",
        "import nltk\n",
        "\n",
        "nltk.download('stopwords')\n",
        "stop_words = set(stopwords.words('english'))"
      ],
      "metadata": {
        "id": "InOFxBHEdulE",
        "outputId": "21474ecd-9468-40ce-dfe0-92f2896e2fd5",
        "colab": {
          "base_uri": "https://localhost:8080/"
        }
      },
      "execution_count": null,
      "outputs": [
        {
          "output_type": "stream",
          "name": "stderr",
          "text": [
            "/usr/local/lib/python3.10/dist-packages/ipykernel/ipkernel.py:283: DeprecationWarning: `should_run_async` will not call `transform_cell` automatically in the future. Please pass the result to `transformed_cell` argument and any exception that happen during thetransform in `preprocessing_exc_tuple` in IPython 7.17 and above.\n",
            "  and should_run_async(code)\n",
            "[nltk_data] Downloading package stopwords to /root/nltk_data...\n",
            "[nltk_data]   Package stopwords is already up-to-date!\n"
          ]
        }
      ]
    },
    {
      "cell_type": "code",
      "source": [
        "sentences = [\n",
        "    [word for word in simple_preprocess(sentence) if word not in stop_words]\n",
        "    for sentence in text.splitlines() if sentence\n",
        "]"
      ],
      "metadata": {
        "id": "f11w4JVqd6n7",
        "colab": {
          "base_uri": "https://localhost:8080/"
        },
        "outputId": "ab26500a-dfff-40c9-8e91-00d6f9efdd0f"
      },
      "execution_count": null,
      "outputs": [
        {
          "output_type": "stream",
          "name": "stderr",
          "text": [
            "/usr/local/lib/python3.10/dist-packages/ipykernel/ipkernel.py:283: DeprecationWarning: `should_run_async` will not call `transform_cell` automatically in the future. Please pass the result to `transformed_cell` argument and any exception that happen during thetransform in `preprocessing_exc_tuple` in IPython 7.17 and above.\n",
            "  and should_run_async(code)\n"
          ]
        }
      ]
    },
    {
      "cell_type": "code",
      "source": [
        "model = Word2Vec(sentences, vector_size=100, window=5, min_count=2, workers=4)"
      ],
      "metadata": {
        "id": "IgIP6f_teGHv",
        "colab": {
          "base_uri": "https://localhost:8080/"
        },
        "outputId": "361ed2ec-7378-4e27-f337-286ea87ac10d"
      },
      "execution_count": null,
      "outputs": [
        {
          "output_type": "stream",
          "name": "stderr",
          "text": [
            "/usr/local/lib/python3.10/dist-packages/ipykernel/ipkernel.py:283: DeprecationWarning: `should_run_async` will not call `transform_cell` automatically in the future. Please pass the result to `transformed_cell` argument and any exception that happen during thetransform in `preprocessing_exc_tuple` in IPython 7.17 and above.\n",
            "  and should_run_async(code)\n"
          ]
        }
      ]
    },
    {
      "cell_type": "code",
      "source": [
        "model.wv.most_similar(\"jane\", topn=5)"
      ],
      "metadata": {
        "id": "kDdSRjuueJyT",
        "outputId": "c5bda51b-af24-4090-854c-01932099f73c",
        "colab": {
          "base_uri": "https://localhost:8080/"
        }
      },
      "execution_count": null,
      "outputs": [
        {
          "output_type": "stream",
          "name": "stderr",
          "text": [
            "/usr/local/lib/python3.10/dist-packages/ipykernel/ipkernel.py:283: DeprecationWarning: `should_run_async` will not call `transform_cell` automatically in the future. Please pass the result to `transformed_cell` argument and any exception that happen during thetransform in `preprocessing_exc_tuple` in IPython 7.17 and above.\n",
            "  and should_run_async(code)\n"
          ]
        },
        {
          "output_type": "execute_result",
          "data": {
            "text/plain": [
              "[('come', 0.9998157024383545),\n",
              " ('might', 0.9997961521148682),\n",
              " ('think', 0.9997885227203369),\n",
              " ('know', 0.999769926071167),\n",
              " ('nothing', 0.9997690916061401)]"
            ]
          },
          "metadata": {},
          "execution_count": 26
        }
      ]
    },
    {
      "cell_type": "code",
      "source": [
        "from gensim.corpora.dictionary import Dictionary\n",
        "from gensim.models import LdaModel"
      ],
      "metadata": {
        "id": "2Hf6ow9VeLvH",
        "colab": {
          "base_uri": "https://localhost:8080/"
        },
        "outputId": "b96fded4-7fef-401c-d35b-9f3386b31beb"
      },
      "execution_count": null,
      "outputs": [
        {
          "output_type": "stream",
          "name": "stderr",
          "text": [
            "/usr/local/lib/python3.10/dist-packages/ipykernel/ipkernel.py:283: DeprecationWarning: `should_run_async` will not call `transform_cell` automatically in the future. Please pass the result to `transformed_cell` argument and any exception that happen during thetransform in `preprocessing_exc_tuple` in IPython 7.17 and above.\n",
            "  and should_run_async(code)\n"
          ]
        }
      ]
    },
    {
      "cell_type": "code",
      "source": [
        "dictionary = Dictionary(sentences)\n",
        "corpus = [dictionary.doc2bow(sentence) for sentence in sentences]"
      ],
      "metadata": {
        "id": "a-R2v8-geZNg",
        "colab": {
          "base_uri": "https://localhost:8080/"
        },
        "outputId": "6af5b303-a373-44a7-d98d-6f46bccad260"
      },
      "execution_count": null,
      "outputs": [
        {
          "output_type": "stream",
          "name": "stderr",
          "text": [
            "/usr/local/lib/python3.10/dist-packages/ipykernel/ipkernel.py:283: DeprecationWarning: `should_run_async` will not call `transform_cell` automatically in the future. Please pass the result to `transformed_cell` argument and any exception that happen during thetransform in `preprocessing_exc_tuple` in IPython 7.17 and above.\n",
            "  and should_run_async(code)\n"
          ]
        }
      ]
    },
    {
      "cell_type": "code",
      "source": [
        "lda_model = LdaModel(corpus, num_topics=5, id2word=dictionary, passes=15)"
      ],
      "metadata": {
        "id": "N0CBt71WebvC",
        "colab": {
          "base_uri": "https://localhost:8080/"
        },
        "outputId": "2e2a43c9-467d-438f-ab8c-ff0867b1d955"
      },
      "execution_count": null,
      "outputs": [
        {
          "output_type": "stream",
          "name": "stderr",
          "text": [
            "/usr/local/lib/python3.10/dist-packages/ipykernel/ipkernel.py:283: DeprecationWarning: `should_run_async` will not call `transform_cell` automatically in the future. Please pass the result to `transformed_cell` argument and any exception that happen during thetransform in `preprocessing_exc_tuple` in IPython 7.17 and above.\n",
            "  and should_run_async(code)\n"
          ]
        }
      ]
    },
    {
      "cell_type": "code",
      "source": [
        "topics = lda_model.print_topics(num_words=5)\n",
        "for idx, topic in topics:\n",
        "    print(f\"Topic {idx}: {topic}\")"
      ],
      "metadata": {
        "id": "wc2WnFxPedMp",
        "outputId": "a284d87b-c688-4e9a-b5a4-efbd5690436d",
        "colab": {
          "base_uri": "https://localhost:8080/"
        }
      },
      "execution_count": null,
      "outputs": [
        {
          "output_type": "stream",
          "name": "stdout",
          "text": [
            "Topic 0: 0.012*\"love\" + 0.011*\"sir\" + 0.010*\"jane\" + 0.010*\"would\" + 0.008*\"heart\"\n",
            "Topic 1: 0.011*\"could\" + 0.006*\"seemed\" + 0.006*\"one\" + 0.006*\"would\" + 0.006*\"face\"\n",
            "Topic 2: 0.035*\"yes\" + 0.033*\"sir\" + 0.014*\"jane\" + 0.009*\"friends\" + 0.009*\"day\"\n",
            "Topic 3: 0.007*\"still\" + 0.007*\"night\" + 0.006*\"could\" + 0.006*\"room\" + 0.005*\"said\"\n",
            "Topic 4: 0.014*\"mr\" + 0.011*\"would\" + 0.010*\"rochester\" + 0.010*\"said\" + 0.008*\"john\"\n"
          ]
        },
        {
          "output_type": "stream",
          "name": "stderr",
          "text": [
            "/usr/local/lib/python3.10/dist-packages/ipykernel/ipkernel.py:283: DeprecationWarning: `should_run_async` will not call `transform_cell` automatically in the future. Please pass the result to `transformed_cell` argument and any exception that happen during thetransform in `preprocessing_exc_tuple` in IPython 7.17 and above.\n",
            "  and should_run_async(code)\n"
          ]
        }
      ]
    },
    {
      "cell_type": "code",
      "source": [
        "!pip install pyLDAvis"
      ],
      "metadata": {
        "id": "ftcabDXKeenk",
        "outputId": "661dbbbe-d0cb-4115-8da2-b9569b868c58",
        "colab": {
          "base_uri": "https://localhost:8080/"
        }
      },
      "execution_count": null,
      "outputs": [
        {
          "output_type": "stream",
          "name": "stderr",
          "text": [
            "/usr/local/lib/python3.10/dist-packages/ipykernel/ipkernel.py:283: DeprecationWarning: `should_run_async` will not call `transform_cell` automatically in the future. Please pass the result to `transformed_cell` argument and any exception that happen during thetransform in `preprocessing_exc_tuple` in IPython 7.17 and above.\n",
            "  and should_run_async(code)\n"
          ]
        },
        {
          "output_type": "stream",
          "name": "stdout",
          "text": [
            "Requirement already satisfied: pyLDAvis in /usr/local/lib/python3.10/dist-packages (3.4.1)\n",
            "Requirement already satisfied: numpy>=1.24.2 in /usr/local/lib/python3.10/dist-packages (from pyLDAvis) (1.26.4)\n",
            "Requirement already satisfied: scipy in /usr/local/lib/python3.10/dist-packages (from pyLDAvis) (1.13.1)\n",
            "Requirement already satisfied: pandas>=2.0.0 in /usr/local/lib/python3.10/dist-packages (from pyLDAvis) (2.2.2)\n",
            "Requirement already satisfied: joblib>=1.2.0 in /usr/local/lib/python3.10/dist-packages (from pyLDAvis) (1.4.2)\n",
            "Requirement already satisfied: jinja2 in /usr/local/lib/python3.10/dist-packages (from pyLDAvis) (3.1.4)\n",
            "Requirement already satisfied: numexpr in /usr/local/lib/python3.10/dist-packages (from pyLDAvis) (2.10.2)\n",
            "Requirement already satisfied: funcy in /usr/local/lib/python3.10/dist-packages (from pyLDAvis) (2.0)\n",
            "Requirement already satisfied: scikit-learn>=1.0.0 in /usr/local/lib/python3.10/dist-packages (from pyLDAvis) (1.6.0)\n",
            "Requirement already satisfied: gensim in /usr/local/lib/python3.10/dist-packages (from pyLDAvis) (4.3.3)\n",
            "Requirement already satisfied: setuptools in /usr/local/lib/python3.10/dist-packages (from pyLDAvis) (75.1.0)\n",
            "Requirement already satisfied: python-dateutil>=2.8.2 in /usr/local/lib/python3.10/dist-packages (from pandas>=2.0.0->pyLDAvis) (2.8.2)\n",
            "Requirement already satisfied: pytz>=2020.1 in /usr/local/lib/python3.10/dist-packages (from pandas>=2.0.0->pyLDAvis) (2024.2)\n",
            "Requirement already satisfied: tzdata>=2022.7 in /usr/local/lib/python3.10/dist-packages (from pandas>=2.0.0->pyLDAvis) (2024.2)\n",
            "Requirement already satisfied: threadpoolctl>=3.1.0 in /usr/local/lib/python3.10/dist-packages (from scikit-learn>=1.0.0->pyLDAvis) (3.5.0)\n",
            "Requirement already satisfied: smart-open>=1.8.1 in /usr/local/lib/python3.10/dist-packages (from gensim->pyLDAvis) (7.1.0)\n",
            "Requirement already satisfied: MarkupSafe>=2.0 in /usr/local/lib/python3.10/dist-packages (from jinja2->pyLDAvis) (3.0.2)\n",
            "Requirement already satisfied: six>=1.5 in /usr/local/lib/python3.10/dist-packages (from python-dateutil>=2.8.2->pandas>=2.0.0->pyLDAvis) (1.17.0)\n",
            "Requirement already satisfied: wrapt in /usr/local/lib/python3.10/dist-packages (from smart-open>=1.8.1->gensim->pyLDAvis) (1.17.0)\n"
          ]
        }
      ]
    },
    {
      "cell_type": "code",
      "source": [
        "import pyLDAvis\n",
        "import pyLDAvis.gensim_models as gensimvis\n",
        "\n",
        "lda_display = gensimvis.prepare(lda_model, corpus, dictionary, sort_topics=False)\n",
        "\n",
        "pyLDAvis.display(lda_display)"
      ],
      "metadata": {
        "id": "ZEBqQzroemgi",
        "outputId": "c7d94b72-059d-45d2-ece6-29e0c456fd67",
        "colab": {
          "base_uri": "https://localhost:8080/",
          "height": 916
        }
      },
      "execution_count": null,
      "outputs": [
        {
          "output_type": "stream",
          "name": "stderr",
          "text": [
            "/usr/local/lib/python3.10/dist-packages/ipykernel/ipkernel.py:283: DeprecationWarning: `should_run_async` will not call `transform_cell` automatically in the future. Please pass the result to `transformed_cell` argument and any exception that happen during thetransform in `preprocessing_exc_tuple` in IPython 7.17 and above.\n",
            "  and should_run_async(code)\n"
          ]
        },
        {
          "output_type": "execute_result",
          "data": {
            "text/plain": [
              "<IPython.core.display.HTML object>"
            ],
            "text/html": [
              "\n",
              "<link rel=\"stylesheet\" type=\"text/css\" href=\"https://cdn.jsdelivr.net/gh/bmabey/pyLDAvis@3.4.0/pyLDAvis/js/ldavis.v1.0.0.css\">\n",
              "\n",
              "\n",
              "<div id=\"ldavis_el227136592087335760763424374\" style=\"background-color:white;\"></div>\n",
              "<script type=\"text/javascript\">\n",
              "\n",
              "var ldavis_el227136592087335760763424374_data = {\"mdsDat\": {\"x\": [0.21550179004055478, -0.0947266434324472, 0.06992761357711125, -0.1498418535757598, -0.04086090660945895], \"y\": [-0.06307762296775817, 0.07633769004369288, 0.1761920873524129, -0.00699823995597005, -0.1824539144723777], \"topics\": [1, 2, 3, 4, 5], \"cluster\": [1, 1, 1, 1, 1], \"Freq\": [8.404637656775574, 21.884266661997525, 5.320579636754023, 33.653368722944144, 30.73714732152873]}, \"tinfo\": {\"Term\": [\"sir\", \"yes\", \"jane\", \"mr\", \"love\", \"go\", \"would\", \"know\", \"rochester\", \"john\", \"day\", \"must\", \"asked\", \"ever\", \"good\", \"said\", \"mary\", \"come\", \"god\", \"heart\", \"back\", \"seemed\", \"marry\", \"speak\", \"may\", \"make\", \"cannot\", \"much\", \"face\", \"night\", \"sacrifice\", \"proud\", \"absolutely\", \"judgment\", \"content\", \"choose\", \"mercy\", \"comfortable\", \"divine\", \"maker\", \"bone\", \"blest\", \"judges\", \"wrong\", \"trust\", \"devoted\", \"sees\", \"justice\", \"void\", \"entirely\", \"remorse\", \"gratitude\", \"doom\", \"fasten\", \"ambition\", \"lamb\", \"chain\", \"loves\", \"exacting\", \"rank\", \"resolute\", \"mighty\", \"none\", \"free\", \"chosen\", \"love\", \"faithful\", \"marry\", \"confidence\", \"talk\", \"best\", \"flesh\", \"began\", \"earth\", \"may\", \"sir\", \"make\", \"heart\", \"god\", \"ever\", \"jane\", \"cannot\", \"would\", \"wish\", \"better\", \"much\", \"see\", \"know\", \"give\", \"one\", \"way\", \"shall\", \"little\", \"must\", \"without\", \"life\", \"smiled\", \"use\", \"cheek\", \"met\", \"spoken\", \"dared\", \"difficult\", \"wandered\", \"murmured\", \"aloud\", \"dull\", \"taught\", \"learnt\", \"deemed\", \"accents\", \"unconscious\", \"clung\", \"handsome\", \"cell\", \"fancied\", \"mountains\", \"dense\", \"obscurity\", \"sealed\", \"buried\", \"eagerness\", \"soothe\", \"lone\", \"reside\", \"falls\", \"tear\", \"informed\", \"point\", \"amongst\", \"features\", \"speak\", \"idea\", \"doubt\", \"face\", \"sisters\", \"express\", \"seemed\", \"felt\", \"feeling\", \"comfort\", \"could\", \"reed\", \"eye\", \"true\", \"turn\", \"less\", \"yet\", \"wild\", \"gave\", \"words\", \"heard\", \"one\", \"would\", \"saw\", \"hour\", \"eyes\", \"first\", \"think\", \"time\", \"moment\", \"heart\", \"like\", \"mrs\", \"see\", \"jane\", \"friends\", \"somewhere\", \"eagerly\", \"pearl\", \"jewels\", \"natured\", \"happen\", \"vex\", \"depends\", \"memento\", \"treasure\", \"ony\", \"onybody\", \"varry\", \"amen\", \"employ\", \"hesitatingly\", \"mistress\", \"fillip\", \"fa\", \"heeding\", \"noan\", \"invention\", \"fiction\", \"ben\", \"een\", \"handsomest\", \"impudent\", \"announces\", \"forewarned\", \"yes\", \"grand\", \"sir\", \"circumstances\", \"quickly\", \"th\", \"choice\", \"truly\", \"answered\", \"india\", \"intended\", \"worth\", \"asked\", \"day\", \"jane\", \"surely\", \"must\", \"instantly\", \"case\", \"go\", \"come\", \"want\", \"ah\", \"speak\", \"rather\", \"word\", \"ladies\", \"may\", \"nothing\", \"good\", \"tell\", \"shall\", \"see\", \"without\", \"one\", \"never\", \"back\", \"window\", \"clock\", \"bed\", \"pause\", \"chapter\", \"moon\", \"longed\", \"rain\", \"ruin\", \"grow\", \"rising\", \"lightning\", \"broke\", \"parlour\", \"table\", \"green\", \"thee\", \"fast\", \"ere\", \"candle\", \"bread\", \"safe\", \"twelve\", \"twice\", \"change\", \"glass\", \"path\", \"front\", \"trees\", \"stood\", \"thornfield\", \"four\", \"nearly\", \"england\", \"still\", \"door\", \"room\", \"take\", \"night\", \"open\", \"days\", \"sat\", \"might\", \"hall\", \"last\", \"looked\", \"towards\", \"fairfax\", \"old\", \"away\", \"fire\", \"came\", \"long\", \"hope\", \"like\", \"could\", \"said\", \"one\", \"soon\", \"near\", \"half\", \"jane\", \"sir\", \"come\", \"must\", \"went\", \"two\", \"little\", \"seemed\", \"day\", \"mary\", \"diana\", \"home\", \"happy\", \"letter\", \"joy\", \"told\", \"news\", \"poor\", \"teach\", \"loved\", \"servant\", \"months\", \"attendance\", \"brother\", \"tale\", \"wrote\", \"family\", \"narrative\", \"frantic\", \"marriage\", \"reward\", \"dear\", \"father\", \"needed\", \"anything\", \"services\", \"toil\", \"communicated\", \"short\", \"weary\", \"john\", \"ear\", \"mr\", \"replied\", \"rochester\", \"name\", \"st\", \"school\", \"know\", \"done\", \"often\", \"wished\", \"years\", \"say\", \"good\", \"never\", \"us\", \"said\", \"would\", \"time\", \"thought\", \"go\", \"well\", \"miss\", \"hand\", \"jane\", \"ever\", \"little\", \"one\", \"leave\", \"much\", \"voice\", \"see\", \"without\"], \"Freq\": [338.0, 192.0, 542.0, 425.0, 173.0, 260.0, 518.0, 226.0, 300.0, 232.0, 184.0, 284.0, 155.0, 232.0, 233.0, 431.0, 157.0, 203.0, 163.0, 205.0, 152.0, 204.0, 83.0, 97.0, 107.0, 117.0, 96.0, 175.0, 158.0, 247.0, 42.94495381046804, 26.941023367478465, 24.04599570859747, 21.767707536419284, 21.76639715051907, 19.539956924392733, 18.524509312050995, 18.144590262981303, 18.767140502908298, 17.410418187887487, 16.941408374601934, 16.39008328325124, 16.01750205128945, 15.755935612207372, 14.274683645002654, 17.683587217086043, 25.31137449624063, 11.396055586039518, 11.482263329308251, 11.210080528867927, 11.034102753101724, 11.1206303543461, 11.013500288170572, 10.837029827941887, 10.471820806418714, 10.287145817148124, 10.284158756375584, 16.95614763647956, 10.192191849878737, 10.09986725274246, 11.24955461436203, 18.205798353987056, 25.818005454328052, 15.423214530876953, 16.928010452622168, 87.84308423620439, 22.62581769840872, 46.4706863679884, 19.397028559943198, 27.220092572561065, 29.847502285820795, 29.695445931399675, 28.36943170170715, 34.70256802944761, 42.09520810650833, 78.97884983920353, 43.23150872398062, 57.272974632742475, 48.851237950046034, 56.35329696944132, 76.72228277503798, 35.856226960931416, 70.98883200096564, 34.543832490201765, 34.614266592171646, 41.012138046982614, 42.33231572845291, 36.68755159696053, 28.535726895044004, 39.54223587891362, 29.163855733212863, 29.426466009882123, 30.886294371384885, 30.877916156022874, 29.31868419008956, 27.471623037740702, 55.468597673079564, 49.4439106597032, 39.766561244077344, 34.80035426289619, 34.5951939412423, 38.00834740715793, 29.822420124649877, 29.790702172350883, 27.952995315432307, 25.064525782256588, 24.634973317797655, 23.81979933121132, 23.609518733076325, 23.194415881389162, 22.37198350549293, 21.95516792468113, 22.337946092575475, 26.17208837732685, 21.73683638022954, 22.13544329964177, 22.32075163548108, 21.323553723023856, 22.103888784239636, 20.912283802397322, 24.833434965541855, 21.89432909954011, 19.87429383157293, 19.859414357373797, 19.050668142443453, 19.050708441952267, 25.66092492979437, 22.550423013940886, 64.61961311496569, 41.70944534127983, 30.623762424266268, 78.95886344298754, 46.67728221370639, 48.26725007904644, 108.62698570383124, 52.244417559443804, 42.64117446280551, 122.03763236112218, 83.46194846886688, 39.91146484460643, 45.86432022238168, 207.05065519159945, 53.890316665295856, 75.71769036980146, 49.937713974382824, 33.14819977773141, 39.5265642359145, 93.77811226505828, 43.24508499101408, 48.66477786716707, 79.0684781069643, 67.58895256802508, 115.50226997204231, 114.40212024773241, 60.410898090087024, 52.13546559850089, 57.779049112460335, 55.45331520379228, 53.01764423507694, 60.877870887342276, 51.70631165140691, 55.41783372514229, 57.07700480256407, 49.83126058298644, 50.852633723009454, 52.35570689189799, 43.58360584513769, 13.356111931238942, 13.12793303678528, 14.0028728148025, 13.293269112244515, 12.192022900167048, 12.073458054871995, 11.37246984740326, 11.142734198087625, 10.787833280590144, 13.766940627952371, 10.43722269240107, 10.436685992997607, 10.436357223788995, 10.436064379692583, 10.43516951780689, 10.434685073112083, 11.109542660334775, 10.321009308995425, 10.321009308995425, 10.320676185227759, 10.320874317664737, 10.318221302560808, 10.317882735594322, 9.96813979329685, 9.96813979329685, 9.96813979329685, 9.967952547257507, 9.966918339482072, 9.966918339482072, 163.94845167094115, 12.221089581855564, 154.84386992693294, 15.80694703554921, 14.336301401602443, 13.721913398689498, 13.71049683348847, 22.816212940130377, 27.39544982356348, 16.624315188307428, 12.535933999250839, 12.76201943943907, 39.87842476423375, 42.367286055487085, 65.92939141605578, 13.420857692540169, 41.86901128112154, 14.124317112272312, 16.097339515213935, 36.38313996159333, 29.132659790028974, 20.523901203638644, 14.765613024222523, 17.923500059484862, 17.41184481378472, 16.613703127891707, 16.20325654373531, 16.92093904197908, 17.13859187855835, 17.404910178490496, 16.280100358729587, 15.947317335309469, 16.2082534002503, 14.971222239096925, 15.216858560799915, 14.40097204675998, 151.76769218436982, 89.67658661970437, 70.66695794152587, 62.17777700650502, 52.52919425284771, 51.105636305858965, 51.08472416087869, 48.63941822808216, 45.471999472078, 44.97337185712847, 43.04787078718625, 42.24082174128132, 40.45368718345835, 40.72636103434621, 39.417744141056275, 69.11010830982994, 38.36002822989304, 37.223618064891454, 35.80139251831551, 64.76925105177071, 33.716974295261736, 31.744167846322313, 30.370790095758913, 29.940380004786864, 29.51876306796029, 30.839826027121763, 29.591211910044574, 36.643562537375495, 28.950413383864305, 28.516706720811484, 107.49348625445072, 87.79986448787221, 59.55604679889382, 35.14695324165585, 46.58634067933781, 213.23521369847265, 122.3660150937703, 167.13202482050414, 107.99748478579293, 195.54269897874892, 62.87224338187076, 60.45621927209978, 81.03759154627858, 128.83678499104553, 65.56927659162365, 151.76468997982212, 133.7315076734161, 54.61366411932834, 71.10756588785378, 88.85929840370208, 91.36558145203134, 74.7089374739121, 101.73180815102593, 142.26835893431723, 74.90066541755083, 138.50061977010006, 172.69794679299565, 160.99341167316587, 156.87226621030933, 95.17862223028382, 96.65033595136526, 72.54717805480351, 126.25796014246367, 103.72138149921692, 89.29595390642821, 94.24140420554875, 79.16291449414979, 80.54262028595022, 86.99357287889447, 82.07797936628512, 80.93205992495236, 156.72126158084643, 90.3889328763885, 88.97084046027243, 109.26603191733024, 75.45904556155453, 68.78474609720959, 65.86485328543785, 55.20768916215194, 44.62395662181901, 43.374670056854114, 65.65691033761689, 41.381061697261856, 39.45473103196899, 37.14084688634793, 36.48127077348586, 36.297798730878164, 31.52541562855242, 31.431110508101916, 29.648507890172535, 29.342436046426986, 28.078580771123733, 27.75628303803092, 26.93975918036042, 30.019631085260514, 26.45540380513566, 52.07044490237958, 26.310919492968292, 26.163213587072963, 26.021659997555144, 35.561715663012414, 43.95352865931791, 221.10053407087148, 51.53806592597042, 384.5333266141, 38.250257480393216, 262.8430557543135, 62.928847788198006, 126.46882042897461, 73.88251802743986, 188.8922066075876, 90.82727716383627, 75.70341500204967, 76.48591794947829, 73.21508053408009, 115.01175769549475, 174.76855103107656, 184.36020250901637, 105.65593505427735, 258.1732951130049, 296.3384232762645, 162.1928201418773, 137.74684493844748, 152.73848496936702, 146.3262021724585, 125.19742766205015, 125.69763786946268, 220.83113399487164, 122.12932581603123, 127.75256499693705, 162.96245558170727, 86.73101995259637, 93.90119014231911, 86.17340908934176, 99.23933793175168, 86.19047142957399], \"Total\": [338.0, 192.0, 542.0, 425.0, 173.0, 260.0, 518.0, 226.0, 300.0, 232.0, 184.0, 284.0, 155.0, 232.0, 233.0, 431.0, 157.0, 203.0, 163.0, 205.0, 152.0, 204.0, 83.0, 97.0, 107.0, 117.0, 96.0, 175.0, 158.0, 247.0, 43.765066847551466, 27.76850509930166, 24.933833772372967, 22.595605195406435, 22.595726465951163, 20.36981834575649, 19.34692196170806, 18.979075420302046, 19.637281151143284, 18.2305845847704, 17.768828114972422, 17.209310148125525, 16.83887375033752, 16.590475859663027, 15.100573203002533, 18.714050563523607, 26.79395706067548, 12.226783767986095, 12.322595467814553, 12.043598680341637, 11.856719975383301, 11.950675811721519, 11.862431266587215, 11.675370846710898, 11.295604022094732, 11.114741542653565, 11.112471184779649, 18.337149363029003, 11.023616729353718, 10.931566708372108, 12.207098258806536, 20.834994933436803, 31.364026333809495, 17.678382689564256, 20.680504365399408, 173.4620714580936, 31.342097680884173, 83.56881520624451, 26.545952299919414, 44.44456811802181, 51.36158426450941, 54.46383467310185, 51.17154471421712, 73.52985960725229, 107.5571548274581, 338.0607157095983, 117.42742520033738, 205.4383859666812, 163.40425878110932, 232.69997210493727, 542.0964752203271, 96.93009315577157, 518.3905669324868, 95.87137831589175, 104.56002845550879, 175.78410223034822, 279.34636341341155, 226.33172246389174, 100.78814353617905, 490.0960862037725, 121.22952976931575, 138.74593112763245, 269.25958271970296, 284.46416109714255, 170.4995885239967, 158.81336378362724, 56.156870101438756, 50.13863887810663, 40.46010793940992, 35.48837016165317, 35.28292243998712, 38.82010255299308, 30.509363385138805, 30.505024737448245, 28.64324661012901, 25.750329021253805, 25.324395887129807, 24.504362704184285, 24.29289336816825, 23.881058449608915, 23.05505294699778, 22.637416394212792, 23.03269814362178, 26.995553566453058, 22.422776835694876, 22.8346498595077, 23.02858318924361, 22.01048193717332, 22.82372516947734, 21.59525063310468, 25.64657838092633, 22.61816169878419, 20.558235062167366, 20.553055610675088, 19.73263560028927, 19.733119088583134, 26.788799199185167, 23.53713104281133, 71.31702779850146, 45.77610132438798, 32.78073593954269, 97.86583204349853, 54.42408767400697, 58.12828444447273, 158.52293026928282, 67.8413617904675, 52.47765699158138, 204.92912561170627, 128.04582487905782, 50.06735144891403, 61.4839516771004, 491.58096714426364, 77.09899768835548, 127.24736498016927, 70.68104619709047, 39.827578557996674, 52.75978006781755, 221.9348488518537, 62.53834239751854, 81.54036214089355, 211.56874300491984, 157.68687713571913, 490.0960862037725, 518.3905669324868, 170.13750155040043, 118.83534041724107, 164.31821372219872, 161.48605698038097, 139.42887364504764, 257.7095138562951, 131.54564007880495, 205.4383859666812, 304.13975763816126, 157.589039135971, 279.34636341341155, 542.0964752203271, 44.385732003122364, 14.16473045626824, 13.926819886426658, 14.888225473380992, 14.147207831477502, 12.990834601977687, 12.86902135377956, 12.164364128428355, 11.932173430334544, 11.57935364893697, 14.795056906249776, 11.226438376190496, 11.226259376635184, 11.22609292320327, 11.225864881461396, 11.226713949231566, 11.226771199379803, 11.954320458154706, 11.11001314353154, 11.110052131154667, 11.10984587007779, 11.11006489107337, 11.110063820578187, 11.110722555511998, 10.757050300109658, 10.757050300109658, 10.757050300109658, 10.756875035227061, 10.756578369982458, 10.756578369982458, 192.89307043618768, 13.81881758012733, 338.0607157095983, 19.598024297423297, 17.66093092626537, 16.66026478831112, 16.980241688892654, 41.62303672152167, 66.86063542478482, 26.574027123545253, 15.842454022288441, 16.47250812404049, 155.41606816044842, 184.4588380928555, 542.0964752203271, 19.0008251163274, 284.46416109714255, 23.13908183295663, 32.00143063807708, 260.1039944956766, 203.7071379598645, 86.83491379128486, 31.041356479646396, 97.86583204349853, 85.26768040138525, 70.85246831756308, 63.48000351291849, 107.5571548274581, 139.6240870024637, 233.48696761196948, 125.99371520920279, 138.74593112763245, 279.34636341341155, 170.4995885239967, 490.0960862037725, 256.98679287985044, 152.70149691428728, 90.35814507769464, 71.34356167026095, 62.870378912863636, 53.20642284409065, 51.77903559041341, 51.76206425211344, 49.32714851630931, 46.14847406073708, 45.64968316318962, 43.721862866071, 42.92299467067879, 41.127559967244935, 41.406697939586216, 40.09961266809064, 70.31500320819505, 39.037686397980366, 37.895396817437934, 36.489543083397365, 66.03000255610223, 34.39243543458347, 32.422669973427794, 31.05505257686154, 30.619683432926973, 30.19434141717908, 31.54829124493747, 30.272911321976448, 37.492046054848785, 29.626220469292953, 29.191925662044397, 111.61337706081306, 92.9524085219518, 62.32411222699693, 36.22537227368426, 48.929537156398794, 259.3692062400384, 142.63096825836269, 203.60758725028037, 127.16610357672599, 247.9643886084167, 69.45300700499091, 67.29392647266668, 95.05166425678806, 168.41738156074436, 74.84374496973577, 221.0628094624605, 190.59606260278875, 60.60171362416764, 88.63960902088975, 123.86626737090526, 130.3487243524039, 97.92767932256181, 161.53560368327572, 279.68043072285127, 100.05553070144785, 304.13975763816126, 491.58096714426364, 431.14056097836044, 490.0960862037725, 173.38099216866232, 180.11177804054233, 97.94944331500169, 542.0964752203271, 338.0607157095983, 203.7071379598645, 284.46416109714255, 133.33212482896948, 152.52733976676942, 269.25958271970296, 204.92912561170627, 184.4588380928555, 157.484254396171, 91.1543901913921, 89.73692207061102, 110.26591845255541, 76.21988751041812, 69.5462941363329, 66.6524461426145, 55.97052367052108, 45.39035555072107, 44.13274217226396, 66.86676375874886, 42.15232209444143, 40.24934394816354, 37.89715773817469, 37.24803874602533, 37.076872925191395, 32.286075697968606, 32.194363272463164, 30.40980773115092, 30.11102934437002, 28.84287401424134, 28.515901281089572, 27.699683344759208, 30.871534081864237, 27.215418554506286, 53.57598987975362, 27.073548687485896, 26.92288474816039, 26.780582703633655, 36.60748744857827, 45.35376285084125, 232.94832454724784, 53.73797393386312, 425.2822523444162, 39.82419543054796, 300.75212215702373, 67.90262886609938, 142.8115295962023, 81.32954846099757, 226.33172246389174, 102.64113630964286, 84.88224234196937, 86.97129534063029, 82.98585437309039, 142.36533922280447, 233.48696761196948, 256.98679287985044, 133.82765258349235, 431.14056097836044, 518.3905669324868, 257.7095138562951, 221.6483328068556, 260.1039944956766, 247.32145580278328, 200.035476708077, 205.58276233940933, 542.0964752203271, 232.69997210493727, 269.25958271970296, 490.0960862037725, 129.7779759890082, 175.78410223034822, 139.98766973848075, 279.34636341341155, 170.4995885239967], \"Category\": [\"Default\", \"Default\", \"Default\", \"Default\", \"Default\", \"Default\", \"Default\", \"Default\", \"Default\", \"Default\", \"Default\", \"Default\", \"Default\", \"Default\", \"Default\", \"Default\", \"Default\", \"Default\", \"Default\", \"Default\", \"Default\", \"Default\", \"Default\", \"Default\", \"Default\", \"Default\", \"Default\", \"Default\", \"Default\", \"Default\", \"Topic1\", \"Topic1\", \"Topic1\", \"Topic1\", \"Topic1\", \"Topic1\", \"Topic1\", \"Topic1\", \"Topic1\", \"Topic1\", \"Topic1\", \"Topic1\", \"Topic1\", \"Topic1\", \"Topic1\", \"Topic1\", \"Topic1\", \"Topic1\", \"Topic1\", \"Topic1\", \"Topic1\", \"Topic1\", \"Topic1\", \"Topic1\", \"Topic1\", \"Topic1\", \"Topic1\", \"Topic1\", \"Topic1\", \"Topic1\", \"Topic1\", \"Topic1\", \"Topic1\", \"Topic1\", \"Topic1\", \"Topic1\", \"Topic1\", \"Topic1\", \"Topic1\", \"Topic1\", \"Topic1\", \"Topic1\", \"Topic1\", \"Topic1\", \"Topic1\", \"Topic1\", \"Topic1\", \"Topic1\", \"Topic1\", \"Topic1\", \"Topic1\", \"Topic1\", \"Topic1\", \"Topic1\", \"Topic1\", \"Topic1\", \"Topic1\", \"Topic1\", \"Topic1\", \"Topic1\", \"Topic1\", \"Topic1\", \"Topic1\", \"Topic1\", \"Topic1\", \"Topic1\", \"Topic2\", \"Topic2\", \"Topic2\", \"Topic2\", \"Topic2\", \"Topic2\", \"Topic2\", \"Topic2\", \"Topic2\", \"Topic2\", \"Topic2\", \"Topic2\", \"Topic2\", \"Topic2\", \"Topic2\", \"Topic2\", \"Topic2\", \"Topic2\", \"Topic2\", \"Topic2\", \"Topic2\", \"Topic2\", \"Topic2\", \"Topic2\", \"Topic2\", \"Topic2\", \"Topic2\", \"Topic2\", \"Topic2\", \"Topic2\", \"Topic2\", \"Topic2\", \"Topic2\", \"Topic2\", \"Topic2\", \"Topic2\", \"Topic2\", \"Topic2\", \"Topic2\", \"Topic2\", \"Topic2\", \"Topic2\", \"Topic2\", \"Topic2\", \"Topic2\", \"Topic2\", \"Topic2\", \"Topic2\", \"Topic2\", \"Topic2\", \"Topic2\", \"Topic2\", \"Topic2\", \"Topic2\", \"Topic2\", \"Topic2\", \"Topic2\", \"Topic2\", \"Topic2\", \"Topic2\", \"Topic2\", \"Topic2\", \"Topic2\", \"Topic2\", \"Topic2\", \"Topic2\", \"Topic2\", \"Topic2\", \"Topic2\", \"Topic2\", \"Topic3\", \"Topic3\", \"Topic3\", \"Topic3\", \"Topic3\", \"Topic3\", \"Topic3\", \"Topic3\", \"Topic3\", \"Topic3\", \"Topic3\", \"Topic3\", \"Topic3\", \"Topic3\", \"Topic3\", \"Topic3\", \"Topic3\", \"Topic3\", \"Topic3\", \"Topic3\", \"Topic3\", \"Topic3\", \"Topic3\", \"Topic3\", \"Topic3\", \"Topic3\", \"Topic3\", \"Topic3\", \"Topic3\", \"Topic3\", \"Topic3\", \"Topic3\", \"Topic3\", \"Topic3\", \"Topic3\", \"Topic3\", \"Topic3\", \"Topic3\", \"Topic3\", \"Topic3\", \"Topic3\", \"Topic3\", \"Topic3\", \"Topic3\", \"Topic3\", \"Topic3\", \"Topic3\", \"Topic3\", \"Topic3\", \"Topic3\", \"Topic3\", \"Topic3\", \"Topic3\", \"Topic3\", \"Topic3\", \"Topic3\", \"Topic3\", \"Topic3\", \"Topic3\", \"Topic3\", \"Topic3\", \"Topic3\", \"Topic3\", \"Topic3\", \"Topic3\", \"Topic3\", \"Topic4\", \"Topic4\", \"Topic4\", \"Topic4\", \"Topic4\", \"Topic4\", \"Topic4\", \"Topic4\", \"Topic4\", \"Topic4\", \"Topic4\", \"Topic4\", \"Topic4\", \"Topic4\", \"Topic4\", \"Topic4\", \"Topic4\", \"Topic4\", \"Topic4\", \"Topic4\", \"Topic4\", \"Topic4\", \"Topic4\", \"Topic4\", \"Topic4\", \"Topic4\", \"Topic4\", \"Topic4\", \"Topic4\", \"Topic4\", \"Topic4\", \"Topic4\", \"Topic4\", \"Topic4\", \"Topic4\", \"Topic4\", \"Topic4\", \"Topic4\", \"Topic4\", \"Topic4\", \"Topic4\", \"Topic4\", \"Topic4\", \"Topic4\", \"Topic4\", \"Topic4\", \"Topic4\", \"Topic4\", \"Topic4\", \"Topic4\", \"Topic4\", \"Topic4\", \"Topic4\", \"Topic4\", \"Topic4\", \"Topic4\", \"Topic4\", \"Topic4\", \"Topic4\", \"Topic4\", \"Topic4\", \"Topic4\", \"Topic4\", \"Topic4\", \"Topic4\", \"Topic4\", \"Topic4\", \"Topic4\", \"Topic4\", \"Topic4\", \"Topic4\", \"Topic5\", \"Topic5\", \"Topic5\", \"Topic5\", \"Topic5\", \"Topic5\", \"Topic5\", \"Topic5\", \"Topic5\", \"Topic5\", \"Topic5\", \"Topic5\", \"Topic5\", \"Topic5\", \"Topic5\", \"Topic5\", \"Topic5\", \"Topic5\", \"Topic5\", \"Topic5\", \"Topic5\", \"Topic5\", \"Topic5\", \"Topic5\", \"Topic5\", \"Topic5\", \"Topic5\", \"Topic5\", \"Topic5\", \"Topic5\", \"Topic5\", \"Topic5\", \"Topic5\", \"Topic5\", \"Topic5\", \"Topic5\", \"Topic5\", \"Topic5\", \"Topic5\", \"Topic5\", \"Topic5\", \"Topic5\", \"Topic5\", \"Topic5\", \"Topic5\", \"Topic5\", \"Topic5\", \"Topic5\", \"Topic5\", \"Topic5\", \"Topic5\", \"Topic5\", \"Topic5\", \"Topic5\", \"Topic5\", \"Topic5\", \"Topic5\", \"Topic5\", \"Topic5\", \"Topic5\", \"Topic5\", \"Topic5\", \"Topic5\", \"Topic5\", \"Topic5\"], \"logprob\": [30.0, 29.0, 28.0, 27.0, 26.0, 25.0, 24.0, 23.0, 22.0, 21.0, 20.0, 19.0, 18.0, 17.0, 16.0, 15.0, 14.0, 13.0, 12.0, 11.0, 10.0, 9.0, 8.0, 7.0, 6.0, 5.0, 4.0, 3.0, 2.0, 1.0, -5.1474, -5.6137, -5.7274, -5.8269, -5.827, -5.9349, -5.9882, -6.009, -5.9752, -6.0503, -6.0776, -6.1107, -6.1336, -6.1501, -6.2488, -6.0347, -5.6761, -6.4741, -6.4665, -6.4905, -6.5063, -6.4985, -6.5082, -6.5244, -6.5586, -6.5764, -6.5767, -6.0767, -6.5857, -6.5948, -6.487, -6.0056, -5.6563, -6.1715, -6.0784, -4.4318, -5.7882, -5.0685, -5.9422, -5.6034, -5.5112, -5.5163, -5.562, -5.3605, -5.1674, -4.5381, -5.1408, -4.8595, -5.0185, -4.8757, -4.5671, -5.3278, -4.6448, -5.3651, -5.3631, -5.1935, -5.1618, -5.3049, -5.5562, -5.23, -5.5344, -5.5254, -5.477, -5.4773, -5.5291, -5.5942, -5.8485, -5.9635, -6.1813, -6.3147, -6.3206, -6.2265, -6.4691, -6.4701, -6.5338, -6.6429, -6.6601, -6.6938, -6.7027, -6.7204, -6.7565, -6.7753, -6.758, -6.5996, -6.7853, -6.7671, -6.7588, -6.8045, -6.7686, -6.824, -6.6521, -6.7781, -6.8749, -6.8756, -6.9172, -6.9172, -6.6193, -6.7486, -5.6958, -6.1336, -6.4425, -5.4954, -6.0211, -5.9876, -5.1764, -5.9084, -6.1115, -5.06, -5.4399, -6.1777, -6.0386, -4.5314, -5.8774, -5.5373, -5.9535, -6.3633, -6.1873, -5.3234, -6.0974, -5.9794, -5.494, -5.6509, -5.115, -5.1246, -5.7631, -5.9105, -5.8077, -5.8488, -5.8937, -5.7554, -5.9187, -5.8494, -5.8199, -5.9557, -5.9354, -5.9063, -4.6754, -5.8582, -5.8754, -5.8109, -5.8629, -5.9493, -5.9591, -6.0189, -6.0393, -6.0717, -5.8279, -6.1047, -6.1048, -6.1048, -6.1049, -6.1049, -6.105, -6.0423, -6.1159, -6.1159, -6.116, -6.116, -6.1162, -6.1162, -6.1507, -6.1507, -6.1507, -6.1508, -6.1509, -6.1509, -3.3506, -5.947, -3.4077, -5.6897, -5.7873, -5.8311, -5.832, -5.3227, -5.1398, -5.6393, -5.9215, -5.9037, -4.7643, -4.7038, -4.2615, -5.8533, -4.7156, -5.8022, -5.6715, -4.856, -5.0783, -5.4285, -5.7578, -5.564, -5.593, -5.6399, -5.6649, -5.6216, -5.6088, -5.5934, -5.6602, -5.6808, -5.6646, -5.744, -5.7277, -5.7828, -5.2723, -5.7984, -6.0367, -6.1647, -6.3333, -6.3608, -6.3612, -6.4102, -6.4776, -6.4886, -6.5323, -6.5513, -6.5945, -6.5878, -6.6204, -6.059, -6.6476, -6.6777, -6.7167, -6.1238, -6.7767, -6.837, -6.8812, -6.8955, -6.9096, -6.8659, -6.9072, -6.6934, -6.9291, -6.9442, -5.6172, -5.8196, -6.2077, -6.7351, -6.4534, -4.9323, -5.4876, -5.1759, -5.6126, -5.0189, -6.1536, -6.1927, -5.8997, -5.4361, -6.1116, -5.2723, -5.3988, -6.2944, -6.0305, -5.8076, -5.7798, -5.9811, -5.6723, -5.3369, -5.9785, -5.3638, -5.1431, -5.2133, -5.2392, -5.7389, -5.7236, -6.0104, -5.4563, -5.653, -5.8027, -5.7488, -5.9232, -5.9059, -5.8288, -5.887, -5.901, -5.1495, -5.6999, -5.7157, -5.5102, -5.8804, -5.973, -6.0164, -6.1929, -6.4057, -6.4341, -6.0196, -6.4812, -6.5289, -6.5893, -6.6072, -6.6123, -6.7532, -6.7562, -6.8146, -6.825, -6.869, -6.8806, -6.9104, -6.8022, -6.9286, -6.2514, -6.934, -6.9397, -6.9451, -6.6327, -6.4209, -4.8054, -6.2617, -4.252, -6.5599, -4.6325, -6.062, -5.364, -5.9015, -4.9628, -5.6951, -5.8772, -5.8669, -5.9106, -5.459, -5.0406, -4.9871, -5.5438, -4.6504, -4.5125, -5.1152, -5.2786, -5.1753, -5.2182, -5.3741, -5.3701, -4.8066, -5.3989, -5.3539, -5.1105, -5.7412, -5.6618, -5.7477, -5.6065, -5.7475], \"loglift\": [30.0, 29.0, 28.0, 27.0, 26.0, 25.0, 24.0, 23.0, 22.0, 21.0, 20.0, 19.0, 18.0, 17.0, 16.0, 15.0, 14.0, 13.0, 12.0, 11.0, 10.0, 9.0, 8.0, 7.0, 6.0, 5.0, 4.0, 3.0, 2.0, 1.0, 2.4575, 2.4461, 2.4401, 2.4391, 2.439, 2.4348, 2.4329, 2.4314, 2.4311, 2.4304, 2.4287, 2.4276, 2.4264, 2.4248, 2.4201, 2.4197, 2.4195, 2.406, 2.4058, 2.4047, 2.4045, 2.4044, 2.4021, 2.4019, 2.4007, 2.399, 2.3989, 2.3981, 2.398, 2.3973, 2.3947, 2.3415, 2.2818, 2.3399, 2.2762, 1.796, 2.1505, 1.8895, 2.1626, 1.9861, 1.9336, 1.8698, 1.8865, 1.7255, 1.5383, 1.0223, 1.4771, 1.1991, 1.2689, 1.0583, 0.5211, 1.4819, 0.4882, 1.4556, 1.3709, 1.021, 0.5895, 0.6568, 1.2145, -0.0408, 1.0516, 0.9256, 0.311, 0.2558, 0.7159, 0.7218, 1.5071, 1.5054, 1.5021, 1.4998, 1.4997, 1.4983, 1.4966, 1.4957, 1.495, 1.4924, 1.4918, 1.4911, 1.4909, 1.4902, 1.4893, 1.4888, 1.4888, 1.4884, 1.4883, 1.4883, 1.4882, 1.4877, 1.4874, 1.4873, 1.4872, 1.4869, 1.4856, 1.4851, 1.4842, 1.4842, 1.4764, 1.4766, 1.4208, 1.4264, 1.4513, 1.3047, 1.3659, 1.3335, 1.1414, 1.2582, 1.3118, 1.0011, 1.0914, 1.2927, 1.2263, 0.6547, 1.1613, 1.0003, 1.172, 1.3358, 1.2306, 0.6579, 1.1505, 1.0033, 0.5352, 0.6722, 0.0741, 0.0084, 0.484, 0.6955, 0.4742, 0.4505, 0.5525, 0.0764, 0.5856, 0.2092, -0.1537, 0.3681, -0.1841, -0.818, 2.9154, 2.8748, 2.8745, 2.8723, 2.8713, 2.8701, 2.8698, 2.8663, 2.8651, 2.8628, 2.8616, 2.8607, 2.8607, 2.8606, 2.8606, 2.8605, 2.8604, 2.8603, 2.8599, 2.8599, 2.8599, 2.8599, 2.8596, 2.8596, 2.8574, 2.8574, 2.8574, 2.8574, 2.8573, 2.8573, 2.771, 2.8107, 2.1528, 2.7186, 2.725, 2.7396, 2.7197, 2.3324, 2.0414, 2.4645, 2.6995, 2.6784, 1.5733, 1.4625, 0.8267, 2.5859, 1.0175, 2.44, 2.2465, 0.9666, 0.9888, 1.4912, 2.1906, 1.2361, 1.3449, 1.4832, 1.5681, 1.0841, 0.836, 0.3372, 0.8873, 0.7702, 0.0867, 0.501, -0.5386, 0.0519, 1.0829, 1.0815, 1.0795, 1.078, 1.0762, 1.076, 1.0759, 1.075, 1.0743, 1.0741, 1.0735, 1.073, 1.0725, 1.0725, 1.0719, 1.0718, 1.0715, 1.0712, 1.07, 1.0698, 1.0692, 1.0679, 1.0668, 1.0666, 1.0664, 1.0663, 1.0663, 1.0662, 1.066, 1.0657, 1.0514, 1.032, 1.0436, 1.0588, 1.04, 0.8932, 0.9358, 0.8916, 0.9257, 0.8516, 0.9895, 0.9819, 0.9295, 0.8212, 0.9568, 0.7129, 0.7347, 0.985, 0.8687, 0.7569, 0.7337, 0.8184, 0.6267, 0.4131, 0.7995, 0.3024, 0.043, 0.104, -0.0501, 0.4893, 0.4666, 0.7888, -0.3681, -0.0925, 0.2643, -0.0157, 0.5677, 0.4505, -0.0408, 0.1741, 0.2652, 1.1748, 1.1713, 1.1711, 1.1706, 1.1697, 1.1687, 1.1678, 1.166, 1.1627, 1.1624, 1.1614, 1.1612, 1.1598, 1.1595, 1.1589, 1.1585, 1.1559, 1.1557, 1.1543, 1.1538, 1.1528, 1.1527, 1.1519, 1.1517, 1.1514, 1.1512, 1.1511, 1.1511, 1.151, 1.1507, 1.1483, 1.1275, 1.1379, 1.079, 1.1394, 1.045, 1.1036, 1.0582, 1.0837, 0.9989, 1.0574, 1.0653, 1.0512, 1.0544, 0.9663, 0.89, 0.8476, 0.9433, 0.6669, 0.6205, 0.7167, 0.704, 0.6473, 0.6548, 0.7111, 0.6877, 0.2817, 0.535, 0.4341, 0.0786, 0.7767, 0.5527, 0.6945, 0.1448, 0.4975]}, \"token.table\": {\"Topic\": [1, 2, 3, 5, 2, 1, 3, 2, 4, 3, 1, 2, 3, 5, 3, 5, 2, 3, 4, 5, 5, 2, 4, 5, 4, 4, 1, 2, 5, 3, 1, 5, 1, 3, 4, 5, 1, 1, 4, 4, 5, 2, 1, 2, 4, 5, 4, 1, 5, 2, 3, 4, 2, 1, 4, 4, 2, 3, 5, 1, 1, 5, 1, 3, 4, 2, 1, 3, 4, 5, 2, 5, 1, 5, 1, 2, 1, 1, 2, 3, 4, 5, 2, 1, 2, 3, 4, 5, 2, 4, 5, 5, 2, 2, 3, 1, 5, 2, 1, 1, 5, 1, 4, 5, 2, 5, 2, 3, 2, 4, 5, 1, 4, 5, 3, 3, 4, 5, 1, 1, 4, 1, 2, 4, 5, 1, 1, 2, 1, 2, 4, 5, 1, 2, 4, 5, 3, 2, 4, 3, 4, 5, 1, 5, 2, 5, 2, 4, 1, 5, 2, 4, 5, 1, 2, 4, 2, 4, 5, 3, 3, 2, 4, 5, 1, 2, 4, 5, 1, 4, 3, 4, 5, 5, 1, 4, 3, 4, 2, 4, 5, 1, 4, 5, 4, 2, 3, 4, 5, 1, 4, 5, 3, 4, 5, 3, 4, 1, 4, 4, 2, 4, 5, 4, 5, 1, 2, 4, 5, 2, 3, 3, 5, 2, 4, 5, 1, 2, 4, 5, 3, 3, 5, 4, 5, 2, 4, 5, 2, 4, 3, 1, 3, 4, 2, 2, 3, 2, 3, 3, 1, 2, 3, 4, 5, 3, 1, 5, 5, 1, 1, 1, 1, 5, 2, 3, 4, 5, 1, 4, 5, 2, 4, 5, 1, 2, 5, 5, 1, 2, 4, 5, 4, 1, 2, 3, 4, 5, 1, 2, 3, 4, 5, 2, 1, 2, 4, 5, 4, 2, 4, 5, 1, 5, 1, 5, 1, 5, 1, 2, 4, 5, 1, 5, 1, 5, 5, 1, 2, 3, 4, 5, 3, 1, 2, 2, 4, 5, 1, 4, 2, 3, 4, 5, 3, 2, 3, 4, 5, 5, 4, 2, 2, 4, 5, 2, 3, 4, 5, 1, 2, 4, 5, 2, 1, 2, 3, 4, 5, 2, 5, 5, 3, 4, 5, 2, 4, 5, 1, 2, 3, 4, 5, 5, 4, 5, 3, 1, 2, 4, 2, 3, 4, 5, 2, 2, 4, 5, 4, 5, 1, 2, 3, 4, 5, 3, 3, 2, 4, 4, 4, 4, 3, 2, 4, 5, 1, 3, 4, 4, 1, 1, 2, 3, 4, 5, 2, 4, 5, 1, 1, 5, 2, 1, 5, 4, 2, 4, 5, 2, 4, 4, 1, 4, 3, 4, 5, 2, 4, 2, 4, 5, 1, 2, 4, 5, 2, 4, 5, 2, 1, 2, 3, 4, 5, 2, 4, 5, 1, 5, 5, 5, 1, 3, 4, 5, 4, 5, 1, 3, 4, 2, 4, 5, 2, 3, 2, 4, 5, 2, 2, 3, 4, 2, 1, 2, 5, 2, 4, 5, 2, 4, 3, 5, 2, 4, 1, 4, 5, 5, 1, 2, 4, 5, 2, 5, 2, 4, 1, 2, 3, 4, 5, 3, 4, 4, 1, 2, 3, 4, 5, 4, 5, 1, 2, 4, 5, 2, 4, 5, 5, 5, 2, 3, 4, 3, 4, 2, 5, 2, 3, 5, 1, 2, 3, 5, 4, 4, 2, 4, 5, 2, 1, 4, 5, 2, 3, 3, 2, 4, 5, 1, 2, 2, 3, 4, 5, 1, 3, 4, 5, 4, 5, 2, 4, 5, 1, 4, 5, 2, 4, 4, 1, 2, 4, 5, 2, 4, 5, 1, 2, 3, 4, 5, 2, 3, 4, 5, 2, 4, 5, 3, 5, 1, 2, 4, 5, 1, 5, 1, 5, 3, 5, 1, 2, 4, 5], \"Freq\": [0.9625475255470874, 0.9542376697454009, 0.48322630519820864, 0.5154413922114225, 0.9708613812027607, 0.8853001557455034, 0.8907999611249721, 0.9175093287733483, 0.08738184083555699, 0.9296636584646859, 0.04486945092489981, 0.014956483641633269, 0.40382505832409826, 0.5234769274571645, 0.01866507743943524, 0.9705840268506324, 0.22520193963385243, 0.25737364529583134, 0.328151397752185, 0.19303023397187352, 0.9763265165062507, 0.023015184957923783, 0.6981272770570215, 0.26851049117577747, 0.9954060901270599, 0.9861559779356515, 0.547179104253632, 0.3517579955916206, 0.07816844346480457, 0.9296228725357972, 0.5840941324064617, 0.4088658926845232, 0.33473594562852294, 0.13389437825140918, 0.11476660992977929, 0.4208109030758574, 0.929729307118261, 0.9567316364366996, 0.9869637517892821, 0.9901779673380475, 0.9664938399969178, 0.9747889027798267, 0.06190585711127243, 0.012381171422254486, 0.6314397425349788, 0.2971481141341077, 0.9885894840064494, 0.3714016857710657, 0.6190028096184428, 0.2812374265946504, 0.4999776472793785, 0.2187402206847281, 0.9811452061092694, 0.8998898475162428, 0.9826205723574505, 0.9849546137441455, 0.9886281089487219, 0.8244876755292517, 0.17667593047055394, 0.9818447892131777, 0.8220302416048776, 0.14506416028321367, 0.15307665479292384, 0.8164088255622606, 0.9951844054008847, 0.9551638224413689, 0.039272065182007536, 0.14236123628477731, 0.43690172514983383, 0.3779936273768225, 0.7481627114922841, 0.24396610157357088, 0.9484129021767456, 0.9708526617112128, 0.7157400037992865, 0.26369368561026346, 0.9736354364685356, 0.052890574976979965, 0.4210903469321097, 0.024411034604759983, 0.35192574888528977, 0.1505347133960199, 0.9788742816463826, 0.06505516419852579, 0.11926780103063063, 0.2276930746948403, 0.43912235834004915, 0.14637411944668305, 0.0743009103805362, 0.8916109245664344, 0.02972036415221448, 0.9747403847166509, 0.9631063903022546, 0.9540908763353007, 0.9218773146588092, 0.9618441469365593, 0.987335879391346, 0.9833046865413483, 0.9675473836607884, 0.10716950723163983, 0.8865841052799295, 0.9272972591195182, 0.8553542157759764, 0.14022200258622564, 0.8257597907581838, 0.1548299607671595, 0.9871903800360873, 0.9334507163886026, 0.9726696755016383, 0.03721762942647332, 0.9676583650883063, 0.4759971008641492, 0.339997929188678, 0.19039884034565968, 0.9296228725357972, 0.8907325906067527, 0.9605649824515772, 0.04087510563623733, 0.9133482684004518, 0.015144630641962378, 0.9844009917275546, 0.24065323039551764, 0.07305544494149643, 0.15900302722560988, 0.524280251933092, 0.9071432947566085, 0.17150155925299423, 0.8193963386531946, 0.07858708902583908, 0.597261876596377, 0.07072838012325518, 0.25933739378526893, 0.09128628932979668, 0.35297365207521386, 0.45643144664898344, 0.10345779457376958, 0.9000857855525383, 0.6875976858038251, 0.30910354682924246, 0.011281638209441214, 0.8009963128703262, 0.18050621135105943, 0.7338372892005856, 0.25524775276542105, 0.9628482914793085, 0.962901478673295, 0.9634480990668585, 0.9865840171723032, 0.9421542274264326, 0.971769006374833, 0.9456773654250201, 0.03050572146532323, 0.03050572146532323, 0.01997309566135818, 0.7989238264543271, 0.17975786095222362, 0.6482054380015544, 0.1405746733015419, 0.21086200995231286, 0.9000314741041777, 0.9000889441631479, 0.020423234920254205, 0.7658713095095326, 0.21444396666266913, 0.12384970178837057, 0.34058667991801905, 0.29723928429208935, 0.2353144333979041, 0.5508242337335119, 0.44065938698680945, 0.9296636584646859, 0.9627092606063598, 0.032090308686878656, 0.9631022463010633, 0.8484939071295625, 0.11313252095060834, 0.9913095495846451, 0.978862627112965, 0.6009293889979656, 0.09811092065272907, 0.2943327619581872, 0.28773225681639947, 0.04960900979593094, 0.6647607312654746, 0.9909849660948093, 0.0038446160811137476, 0.1384061789200949, 0.26912312567796237, 0.5882262604104034, 0.2998697853134826, 0.28151041070245303, 0.4161458245166697, 0.072809202902717, 0.17559866582419983, 0.7495065004691457, 0.8683810992090272, 0.07236509160075226, 0.9204500375795424, 0.973418342793131, 0.9834896589771983, 0.21439631803179113, 0.7452824388724169, 0.04083739391081736, 0.8818372200200314, 0.12025053000273156, 0.10214864204095964, 0.019456884198278027, 0.2626679366767533, 0.6128918522457578, 0.963121572447019, 0.9296228725357972, 0.93247183838697, 0.9885194040885797, 0.43123436290436046, 0.24732559048926556, 0.32342577217827034, 0.27745545084862805, 0.2677201718714832, 0.18497030056575203, 0.2677201718714832, 0.9001024961951143, 0.8907280483771173, 0.9917879725133524, 0.7495837508851944, 0.24986125029506479, 0.43758026709414505, 0.3366002054570347, 0.21879013354707252, 0.8635882016346096, 0.12861951939238866, 0.9296380191506906, 0.3386765565549444, 0.6397223846037838, 0.03763072850610493, 0.9771794174135179, 0.34573541239677563, 0.6050369716943573, 0.1893646019599841, 0.8205799418265979, 0.9000848385297199, 0.14204113754605116, 0.09592388509603456, 0.12174954646804387, 0.23243095234808372, 0.4076765116581469, 0.918909240244215, 0.04722077319671351, 0.9487082614976078, 0.9921448850277774, 0.9501823125005195, 0.9736406619669776, 0.8996642296727095, 0.163476863062812, 0.8350574896992289, 0.03150598439385704, 0.2520478751508563, 0.28355385954471335, 0.42533078931707, 0.8997060310961196, 0.6875873891660265, 0.31212848587141995, 0.9879432489276045, 0.32362964270268224, 0.6703756884555561, 0.18953831852873487, 0.7581532741149395, 0.037907663705746976, 0.9839951546733603, 0.17001088168364548, 0.044076895251315494, 0.3463184626889075, 0.4344722531915385, 0.9725838350696479, 0.03945554534924219, 0.1874138404089004, 0.042743507461679035, 0.45702673362872204, 0.2761888174446953, 0.11513053569673971, 0.07799165321392044, 0.007427776496563852, 0.32310827760052757, 0.47537769578008654, 0.9730913193078777, 0.05720814988251776, 0.12871833723566495, 0.5077223302073451, 0.30749380561853296, 0.9933677796882757, 0.1888811316896179, 0.7030575457335777, 0.11018066015227711, 0.50731551433859, 0.49002066725886534, 0.01495511288101123, 0.9870374501467413, 0.9270797583333789, 0.05453410343137523, 0.36618362300493035, 0.05961128746591889, 0.1107066767224208, 0.46837440151793414, 0.9324988960694977, 0.9707770448317611, 0.5504445633993235, 0.4307827017907749, 0.9969250615051788, 0.39049006146895476, 0.037189529663709975, 0.1580555010707674, 0.04648691207963747, 0.37189529663709975, 0.9499666676999579, 0.9820683640325476, 0.9862385857837765, 0.18406651209464978, 0.7659541954906395, 0.047501035379264464, 0.8639310956161024, 0.09599234395734471, 0.0799858118335164, 0.00999822647918955, 0.2849494546569022, 0.6248891549493469, 0.9201694097548044, 0.39530006444036, 0.04561154589696462, 0.007601924316160769, 0.5473385507635754, 0.9689598928675073, 0.9852775529120764, 0.9553344997045217, 0.06113586884162713, 0.03527069356247719, 0.9052811347702479, 0.3172809497039892, 0.006345618994079784, 0.4632301865678242, 0.21575104579871265, 0.23324065987647408, 0.15928630430588475, 0.06826555898823632, 0.5347468787411845, 0.9775428177229901, 0.1089768211237468, 0.16170754102233398, 0.14764601571604408, 0.3304458446978129, 0.24959207418664592, 0.05890788128229618, 0.9277991301961649, 0.9865238302466764, 0.9237281797255086, 0.5385544524365627, 0.4608249438374712, 0.027604961308470666, 0.9661736457964734, 0.9553408097666373, 0.06226000885376438, 0.11284626604744794, 0.05447750774704383, 0.05058625719368356, 0.7159901018182903, 0.9826600930833841, 0.790436082777683, 0.20970753216550772, 0.9000847518032702, 0.8289751999083347, 0.09565098460480785, 0.0637673230698719, 0.1145934082255999, 0.12175549623969989, 0.15756593631019986, 0.6016153931843994, 0.9639092583107808, 0.03534308139402996, 0.0589051356567166, 0.8953580619820923, 0.7185168479606988, 0.27448958236700854, 0.0816166485022057, 0.23668828065639652, 0.030606243188327137, 0.32034534537115733, 0.3325878426464882, 0.8907544552338542, 0.8907686580636687, 0.08638934811805685, 0.9070881552395968, 0.9725779728300054, 0.9868759881994984, 0.9961203397436522, 0.9403404069229694, 0.9114232884697672, 0.08413138047413236, 0.9914000332012189, 0.9723245779146755, 0.792710195088254, 0.16986647037605443, 0.9751134986776476, 0.9147819582294043, 0.023455546000375405, 0.32837764400525565, 0.19937214100319092, 0.24628323300394175, 0.18764436800300324, 0.7003982103408823, 0.03891101168560457, 0.2594067445706971, 0.9277439311072534, 0.025110362913519896, 0.9541937907137561, 0.9628718831518619, 0.9011150534537803, 0.9819082947438981, 0.9784964987238112, 0.023274981236359408, 0.10307491690387738, 0.8744742950232177, 0.17681069986722917, 0.8202051910507575, 0.985768068512828, 0.9825187780423951, 0.9660263793065468, 0.02551372103575313, 0.37342809879602307, 0.5984127297476644, 0.1472883206145462, 0.8521681406984458, 0.3526559368348664, 0.35853353578211417, 0.2821247494678931, 0.014048363252729387, 0.15453199578002327, 0.02107254487909408, 0.8077808870319397, 0.03688696244807853, 0.049182616597438035, 0.9098784070526036, 0.9724360396080709, 0.15035098179475195, 0.18256904932219878, 0.057276564493238834, 0.25416475493874735, 0.3543987428019153, 0.5953277731305117, 0.40013833931722914, 0.004879735845332063, 0.9330462067766613, 0.03732184827106645, 0.9726629035558307, 0.9603469534090994, 0.20901513842105313, 0.11531869705989138, 0.16577062702359385, 0.5045192996370248, 0.02731681603127442, 0.9834053771258792, 0.23368583313259847, 0.45849752070319955, 0.3076370461492436, 0.7664940476962331, 0.11792216118403585, 0.11792216118403585, 0.979399313043105, 0.9177724941632887, 0.05767644927462496, 0.5479262681089372, 0.39219985506744975, 0.9728461582193567, 0.8072275926176848, 0.1839252742673206, 0.010218070792628922, 0.991981320695066, 0.09102906492744198, 0.02100670729094815, 0.8822817062198223, 0.08867667960056211, 0.8212231632573795, 0.08867667960056211, 0.035837998144439095, 0.9586664503637459, 0.68418081427575, 0.2631464670291346, 0.014221715912308346, 0.9812983979492759, 0.11795596136158809, 0.8492829218034342, 0.031454923029756825, 0.9709556702000149, 0.6074983095414933, 0.02249993739042568, 0.26999924868510816, 0.08999974956170272, 0.9794174323048948, 0.9743332927774461, 0.9705548877603607, 0.03732903414462926, 0.007936903823651661, 0.3571606720643247, 0.12699046117842658, 0.06349523058921329, 0.4365297103008413, 0.8403227786524996, 0.12004611123607138, 0.9763718843807988, 0.12192596522925307, 0.3801221268912008, 0.07172115601720769, 0.028688462406883077, 0.4016384736963631, 0.9467210306790251, 0.05379096765221734, 0.08572137565571768, 0.12181458645812511, 0.17144275131143535, 0.6226078863415284, 0.23670061336584974, 0.131931489417031, 0.6286147436929125, 0.9657211789600871, 0.9902112198370263, 0.08250591775355387, 0.016501183550710775, 0.9075650952890926, 0.9462619906575739, 0.9934253853525689, 0.7074032246293804, 0.2829612898517522, 0.024025157190968205, 0.5525786153922687, 0.4324528294374277, 0.9271171240848195, 0.8285715876988505, 0.0251082299302682, 0.15064937958160918, 0.9797619255507849, 0.9935636477545919, 0.11145542842348667, 0.5310523354295541, 0.3540348902863694, 0.9718423523642148, 0.07472297247208459, 0.13450135044975228, 0.7920635082040968, 0.977290191684804, 0.8907818658200262, 0.904280723913286, 0.007143486293243964, 0.37860477354193006, 0.6143398212189809, 0.8926690832893893, 0.9834445393244257, 0.3454831552214995, 0.24183820865504968, 0.011516105174049985, 0.4030636810917495, 0.23921564370647386, 0.016497630600446473, 0.36294787320982236, 0.37944550381026887, 0.02204888717367916, 0.970151035641883, 0.18599275930463907, 0.21833932614022847, 0.5903248447495066, 0.12750115564277242, 0.5925053703399424, 0.2775025152225047, 0.6875781856620843, 0.30381361692045583, 0.9960363830246106, 0.36507246077840483, 0.06258385041915511, 0.010430641736525852, 0.5736852955089219, 0.06898827913854223, 0.04599218609236149, 0.8738515357548683, 0.17008838702222698, 0.1466279198467474, 0.08797675190804843, 0.08797675190804843, 0.504400044272811, 0.15525217767569707, 0.23993518368062272, 0.21170751501231416, 0.39518736135631977, 0.37340109355455653, 0.25050959441001897, 0.37812768967550026, 0.7891937221768551, 0.18212162819465888, 0.13696236877945886, 0.21991140902617337, 0.07137475556112645, 0.5709980444890116, 0.9644087448330116, 0.9911393474807901, 0.10845221836889839, 0.8796679934366203, 0.8502119834017262, 0.14515814350761178, 0.04505826845911529, 0.42354772351568376, 0.19375055437419578, 0.3379370134433647], \"Term\": [\"absolutely\", \"accents\", \"ah\", \"ah\", \"aloud\", \"ambition\", \"amen\", \"amongst\", \"amongst\", \"announces\", \"answered\", \"answered\", \"answered\", \"answered\", \"anything\", \"anything\", \"asked\", \"asked\", \"asked\", \"asked\", \"attendance\", \"away\", \"away\", \"away\", \"back\", \"bed\", \"began\", \"began\", \"began\", \"ben\", \"best\", \"best\", \"better\", \"better\", \"better\", \"better\", \"blest\", \"bone\", \"bread\", \"broke\", \"brother\", \"buried\", \"came\", \"came\", \"came\", \"came\", \"candle\", \"cannot\", \"cannot\", \"case\", \"case\", \"case\", \"cell\", \"chain\", \"change\", \"chapter\", \"cheek\", \"choice\", \"choice\", \"choose\", \"chosen\", \"chosen\", \"circumstances\", \"circumstances\", \"clock\", \"clung\", \"come\", \"come\", \"come\", \"come\", \"comfort\", \"comfort\", \"comfortable\", \"communicated\", \"confidence\", \"confidence\", \"content\", \"could\", \"could\", \"could\", \"could\", \"could\", \"dared\", \"day\", \"day\", \"day\", \"day\", \"day\", \"days\", \"days\", \"days\", \"dear\", \"deemed\", \"dense\", \"depends\", \"devoted\", \"diana\", \"difficult\", \"divine\", \"done\", \"done\", \"doom\", \"door\", \"door\", \"doubt\", \"doubt\", \"dull\", \"eagerly\", \"eagerness\", \"ear\", \"ear\", \"earth\", \"earth\", \"earth\", \"een\", \"employ\", \"england\", \"england\", \"entirely\", \"ere\", \"ere\", \"ever\", \"ever\", \"ever\", \"ever\", \"exacting\", \"express\", \"express\", \"eye\", \"eye\", \"eye\", \"eye\", \"eyes\", \"eyes\", \"eyes\", \"eyes\", \"fa\", \"face\", \"face\", \"fairfax\", \"fairfax\", \"fairfax\", \"faithful\", \"faithful\", \"falls\", \"family\", \"fancied\", \"fast\", \"fasten\", \"father\", \"features\", \"features\", \"features\", \"feeling\", \"feeling\", \"feeling\", \"felt\", \"felt\", \"felt\", \"fiction\", \"fillip\", \"fire\", \"fire\", \"fire\", \"first\", \"first\", \"first\", \"first\", \"flesh\", \"flesh\", \"forewarned\", \"four\", \"four\", \"frantic\", \"free\", \"free\", \"friends\", \"front\", \"gave\", \"gave\", \"gave\", \"give\", \"give\", \"give\", \"glass\", \"go\", \"go\", \"go\", \"go\", \"god\", \"god\", \"god\", \"good\", \"good\", \"good\", \"grand\", \"grand\", \"gratitude\", \"green\", \"grow\", \"half\", \"half\", \"half\", \"hall\", \"hall\", \"hand\", \"hand\", \"hand\", \"hand\", \"handsome\", \"handsomest\", \"happen\", \"happy\", \"heard\", \"heard\", \"heard\", \"heart\", \"heart\", \"heart\", \"heart\", \"heeding\", \"hesitatingly\", \"home\", \"hope\", \"hope\", \"hour\", \"hour\", \"hour\", \"idea\", \"idea\", \"impudent\", \"india\", \"india\", \"india\", \"informed\", \"instantly\", \"instantly\", \"intended\", \"intended\", \"invention\", \"jane\", \"jane\", \"jane\", \"jane\", \"jane\", \"jewels\", \"john\", \"john\", \"joy\", \"judges\", \"judgment\", \"justice\", \"know\", \"know\", \"ladies\", \"ladies\", \"ladies\", \"ladies\", \"lamb\", \"last\", \"last\", \"learnt\", \"leave\", \"leave\", \"less\", \"less\", \"less\", \"letter\", \"life\", \"life\", \"life\", \"life\", \"lightning\", \"like\", \"like\", \"like\", \"like\", \"like\", \"little\", \"little\", \"little\", \"little\", \"little\", \"lone\", \"long\", \"long\", \"long\", \"long\", \"longed\", \"looked\", \"looked\", \"looked\", \"love\", \"love\", \"loved\", \"loved\", \"loves\", \"loves\", \"make\", \"make\", \"make\", \"make\", \"maker\", \"marriage\", \"marry\", \"marry\", \"mary\", \"may\", \"may\", \"may\", \"may\", \"may\", \"memento\", \"mercy\", \"met\", \"might\", \"might\", \"might\", \"mighty\", \"mighty\", \"miss\", \"miss\", \"miss\", \"miss\", \"mistress\", \"moment\", \"moment\", \"moment\", \"moment\", \"months\", \"moon\", \"mountains\", \"mr\", \"mr\", \"mr\", \"mrs\", \"mrs\", \"mrs\", \"mrs\", \"much\", \"much\", \"much\", \"much\", \"murmured\", \"must\", \"must\", \"must\", \"must\", \"must\", \"name\", \"name\", \"narrative\", \"natured\", \"near\", \"near\", \"nearly\", \"nearly\", \"needed\", \"never\", \"never\", \"never\", \"never\", \"never\", \"news\", \"night\", \"night\", \"noan\", \"none\", \"none\", \"none\", \"nothing\", \"nothing\", \"nothing\", \"nothing\", \"obscurity\", \"often\", \"often\", \"often\", \"old\", \"old\", \"one\", \"one\", \"one\", \"one\", \"one\", \"ony\", \"onybody\", \"open\", \"open\", \"parlour\", \"path\", \"pause\", \"pearl\", \"point\", \"point\", \"poor\", \"proud\", \"quickly\", \"quickly\", \"rain\", \"rank\", \"rather\", \"rather\", \"rather\", \"rather\", \"rather\", \"reed\", \"reed\", \"reed\", \"remorse\", \"replied\", \"replied\", \"reside\", \"resolute\", \"reward\", \"rising\", \"rochester\", \"rochester\", \"rochester\", \"room\", \"room\", \"ruin\", \"sacrifice\", \"safe\", \"said\", \"said\", \"said\", \"sat\", \"sat\", \"saw\", \"saw\", \"saw\", \"say\", \"say\", \"say\", \"say\", \"school\", \"school\", \"school\", \"sealed\", \"see\", \"see\", \"see\", \"see\", \"see\", \"seemed\", \"seemed\", \"seemed\", \"sees\", \"sees\", \"servant\", \"services\", \"shall\", \"shall\", \"shall\", \"shall\", \"short\", \"short\", \"sir\", \"sir\", \"sir\", \"sisters\", \"sisters\", \"sisters\", \"smiled\", \"somewhere\", \"soon\", \"soon\", \"soon\", \"soothe\", \"speak\", \"speak\", \"speak\", \"spoken\", \"st\", \"st\", \"st\", \"still\", \"still\", \"still\", \"stood\", \"stood\", \"surely\", \"surely\", \"table\", \"table\", \"take\", \"take\", \"take\", \"tale\", \"talk\", \"talk\", \"talk\", \"talk\", \"taught\", \"teach\", \"tear\", \"tear\", \"tell\", \"tell\", \"tell\", \"tell\", \"tell\", \"th\", \"th\", \"thee\", \"think\", \"think\", \"think\", \"think\", \"think\", \"thornfield\", \"thornfield\", \"thought\", \"thought\", \"thought\", \"thought\", \"time\", \"time\", \"time\", \"toil\", \"told\", \"towards\", \"towards\", \"towards\", \"treasure\", \"trees\", \"true\", \"true\", \"truly\", \"truly\", \"truly\", \"trust\", \"turn\", \"turn\", \"turn\", \"twelve\", \"twice\", \"two\", \"two\", \"two\", \"unconscious\", \"us\", \"us\", \"us\", \"use\", \"varry\", \"vex\", \"voice\", \"voice\", \"voice\", \"void\", \"wandered\", \"want\", \"want\", \"want\", \"want\", \"way\", \"way\", \"way\", \"way\", \"weary\", \"weary\", \"well\", \"well\", \"well\", \"went\", \"went\", \"went\", \"wild\", \"wild\", \"window\", \"wish\", \"wish\", \"wish\", \"wish\", \"wished\", \"wished\", \"wished\", \"without\", \"without\", \"without\", \"without\", \"without\", \"word\", \"word\", \"word\", \"word\", \"words\", \"words\", \"words\", \"worth\", \"worth\", \"would\", \"would\", \"would\", \"would\", \"wrong\", \"wrote\", \"years\", \"years\", \"yes\", \"yes\", \"yet\", \"yet\", \"yet\", \"yet\"]}, \"R\": 30, \"lambda.step\": 0.01, \"plot.opts\": {\"xlab\": \"PC1\", \"ylab\": \"PC2\"}, \"topic.order\": [1, 2, 3, 4, 5]};\n",
              "\n",
              "function LDAvis_load_lib(url, callback){\n",
              "  var s = document.createElement('script');\n",
              "  s.src = url;\n",
              "  s.async = true;\n",
              "  s.onreadystatechange = s.onload = callback;\n",
              "  s.onerror = function(){console.warn(\"failed to load library \" + url);};\n",
              "  document.getElementsByTagName(\"head\")[0].appendChild(s);\n",
              "}\n",
              "\n",
              "if(typeof(LDAvis) !== \"undefined\"){\n",
              "   // already loaded: just create the visualization\n",
              "   !function(LDAvis){\n",
              "       new LDAvis(\"#\" + \"ldavis_el227136592087335760763424374\", ldavis_el227136592087335760763424374_data);\n",
              "   }(LDAvis);\n",
              "}else if(typeof define === \"function\" && define.amd){\n",
              "   // require.js is available: use it to load d3/LDAvis\n",
              "   require.config({paths: {d3: \"https://d3js.org/d3.v5\"}});\n",
              "   require([\"d3\"], function(d3){\n",
              "      window.d3 = d3;\n",
              "      LDAvis_load_lib(\"https://cdn.jsdelivr.net/gh/bmabey/pyLDAvis@3.4.0/pyLDAvis/js/ldavis.v3.0.0.js\", function(){\n",
              "        new LDAvis(\"#\" + \"ldavis_el227136592087335760763424374\", ldavis_el227136592087335760763424374_data);\n",
              "      });\n",
              "    });\n",
              "}else{\n",
              "    // require.js not available: dynamically load d3 & LDAvis\n",
              "    LDAvis_load_lib(\"https://d3js.org/d3.v5.js\", function(){\n",
              "         LDAvis_load_lib(\"https://cdn.jsdelivr.net/gh/bmabey/pyLDAvis@3.4.0/pyLDAvis/js/ldavis.v3.0.0.js\", function(){\n",
              "                 new LDAvis(\"#\" + \"ldavis_el227136592087335760763424374\", ldavis_el227136592087335760763424374_data);\n",
              "            })\n",
              "         });\n",
              "}\n",
              "</script>"
            ]
          },
          "metadata": {},
          "execution_count": 32
        }
      ]
    },
    {
      "cell_type": "code",
      "source": [
        "pyLDAvis.save_html(lda_display, 'lda_visualization.html')"
      ],
      "metadata": {
        "id": "4jZHXcMxe0qc",
        "outputId": "8eea4695-00cf-4381-8f46-b2d70d04a0e9",
        "colab": {
          "base_uri": "https://localhost:8080/"
        }
      },
      "execution_count": null,
      "outputs": [
        {
          "output_type": "stream",
          "name": "stderr",
          "text": [
            "/usr/local/lib/python3.10/dist-packages/ipykernel/ipkernel.py:283: DeprecationWarning: `should_run_async` will not call `transform_cell` automatically in the future. Please pass the result to `transformed_cell` argument and any exception that happen during thetransform in `preprocessing_exc_tuple` in IPython 7.17 and above.\n",
            "  and should_run_async(code)\n"
          ]
        }
      ]
    },
    {
      "cell_type": "code",
      "source": [],
      "metadata": {
        "id": "Z3aI-4kPe8UV"
      },
      "execution_count": null,
      "outputs": []
    }
  ]
}